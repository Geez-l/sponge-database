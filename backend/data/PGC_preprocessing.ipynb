{
  "cells": [
    {
      "cell_type": "code",
      "execution_count": null,
      "metadata": {},
      "outputs": [],
      "source": [
        "# Preprocessing by removing trailing spaces and convert date format to ISO format\n",
        "\n",
        "from pathlib import Path\n",
        "import pandas as pd\n",
        "spongeSample_path = Path.cwd()\n",
        "\n",
        "def date_iso(df):\n",
        "    if 'date' in df.columns:\n",
        "        df['date'] = pd.to_datetime(df['date'], errors='coerce').dt.strftime('%Y-%m-%d')\n",
        "        return df\n",
        "\n",
        "def main():\n",
        "    csv_path = '50_samples.csv'\n",
        "    df = pd.read_csv(csv_path)\n",
        "    df = date_iso(df)\n",
        "    output = '50_samples_final.csv'\n",
        "    df.to_csv(output, index=False, quoting=1, encoding='utf-8')\n",
        "\n",
        "        \n",
        "if __name__ == \"__main__\":\n",
        "    main()"
      ]
    }
  ],
  "metadata": {
    "colab": {
      "provenance": []
    },
    "kernelspec": {
      "display_name": "jupyter_env",
      "language": "python",
      "name": "python3"
    },
    "language_info": {
      "codemirror_mode": {
        "name": "ipython",
        "version": 3
      },
      "file_extension": ".py",
      "mimetype": "text/x-python",
      "name": "python",
      "nbconvert_exporter": "python",
      "pygments_lexer": "ipython3",
      "version": "3.10.14"
    }
  },
  "nbformat": 4,
  "nbformat_minor": 0
}
